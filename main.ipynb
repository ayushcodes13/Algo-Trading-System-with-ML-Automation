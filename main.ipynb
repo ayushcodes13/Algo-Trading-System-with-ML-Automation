{
 "cells": [
  {
   "cell_type": "code",
   "execution_count": 27,
   "id": "9324bcab",
   "metadata": {},
   "outputs": [],
   "source": [
    "import yfinance as yf\n",
    "import pandas as pd\n",
    "import numpy as np\n",
    "import plotly.graph_objects as go\n",
    "from plotly.subplots import make_subplots\n",
    "from ta.momentum import RSIIndicator\n",
    "from ta.trend import MACD\n",
    "from sklearn.ensemble import RandomForestClassifier\n",
    "from sklearn.metrics import precision_score\n",
    "import os"
   ]
  },
  {
   "cell_type": "code",
   "execution_count": 28,
   "id": "06bcb1bb",
   "metadata": {},
   "outputs": [],
   "source": [
    "stocks = [\"RELIANCE.NS\", \"HDFCBANK.NS\", \"INFY.NS\"]\n",
    "stock_data = {}"
   ]
  },
  {
   "cell_type": "code",
   "execution_count": 29,
   "id": "bb3df909",
   "metadata": {},
   "outputs": [],
   "source": [
    "for stock in stocks:\n",
    "    if os.path.exists(f\"{stock}.csv\"):\n",
    "        stock_data[stock] = pd.read_csv(f\"{stock}.csv\", index_col=0, parse_dates=True)\n",
    "    else:\n",
    "        ticker = yf.Ticker(stock)\n",
    "        stock_data[stock] = ticker.history(period=\"max\")\n",
    "        stock_data[stock].to_csv(f\"{stock}.csv\")"
   ]
  },
  {
   "cell_type": "code",
   "execution_count": null,
   "id": "9334366b",
   "metadata": {},
   "outputs": [],
   "source": []
  }
 ],
 "metadata": {
  "kernelspec": {
   "display_name": "venv",
   "language": "python",
   "name": "python3"
  },
  "language_info": {
   "codemirror_mode": {
    "name": "ipython",
    "version": 3
   },
   "file_extension": ".py",
   "mimetype": "text/x-python",
   "name": "python",
   "nbconvert_exporter": "python",
   "pygments_lexer": "ipython3",
   "version": "3.10.13"
  }
 },
 "nbformat": 4,
 "nbformat_minor": 5
}
