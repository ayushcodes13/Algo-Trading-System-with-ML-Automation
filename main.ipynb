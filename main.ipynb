{
 "cells": [
  {
   "cell_type": "code",
   "execution_count": 22,
   "id": "602265ae",
   "metadata": {},
   "outputs": [],
   "source": [
    "import yfinance as yf\n",
    "import pandas as pd\n",
    "import plotly.graph_objects as go\n",
    "import datetime\n",
    "import plotly.io as pio"
   ]
  },
  {
   "cell_type": "code",
   "execution_count": 23,
   "id": "d717e4d4",
   "metadata": {},
   "outputs": [],
   "source": [
    "# Select 3 NIFTY50 stocks – e.g., Infosys, Reliance, TCS\n",
    "stock_symbols = ['INFY.NS', 'RELIANCE.NS', 'TCS.NS']"
   ]
  },
  {
   "cell_type": "code",
   "execution_count": 24,
   "id": "749e237e",
   "metadata": {},
   "outputs": [],
   "source": [
    "end = datetime.datetime.now()\n",
    "start = end - datetime.timedelta(days=365) "
   ]
  },
  {
   "cell_type": "code",
   "execution_count": 18,
   "id": "947038aa",
   "metadata": {},
   "outputs": [
    {
     "name": "stderr",
     "output_type": "stream",
     "text": [
      "/var/folders/t2/tk6lkml50qzfgl3s9gkmfkh00000gn/T/ipykernel_87304/2422802849.py:3: FutureWarning: YF.download() has changed argument auto_adjust default to True\n",
      "  df = yf.download(symbol, start=start, end=end, interval='1d')\n",
      "[*********************100%***********************]  1 of 1 completed\n",
      "/var/folders/t2/tk6lkml50qzfgl3s9gkmfkh00000gn/T/ipykernel_87304/2422802849.py:3: FutureWarning: YF.download() has changed argument auto_adjust default to True\n",
      "  df = yf.download(symbol, start=start, end=end, interval='1d')\n",
      "[*********************100%***********************]  1 of 1 completed\n",
      "/var/folders/t2/tk6lkml50qzfgl3s9gkmfkh00000gn/T/ipykernel_87304/2422802849.py:3: FutureWarning: YF.download() has changed argument auto_adjust default to True\n",
      "  df = yf.download(symbol, start=start, end=end, interval='1d')\n",
      "[*********************100%***********************]  1 of 1 completed\n"
     ]
    }
   ],
   "source": [
    "stock_data = {}\n",
    "for symbol in stock_symbols:\n",
    "    df = yf.download(symbol, start=start, end=end, interval='1d')\n",
    "    df.dropna(inplace=True)  # Remove any NaNs\n",
    "    stock_data[symbol] = df"
   ]
  },
  {
   "cell_type": "code",
   "execution_count": 25,
   "id": "928695ec",
   "metadata": {},
   "outputs": [],
   "source": [
    "# Function to plot stock chart\n",
    "def plot_candlestick(df, symbol):\n",
    "    fig = go.Figure(data=[\n",
    "        go.Candlestick(\n",
    "            x=df.index,\n",
    "            open=df['Open'],\n",
    "            high=df['High'],\n",
    "            low=df['Low'],\n",
    "            close=df['Close'],\n",
    "            name='Price'\n",
    "        ),\n",
    "        go.Scatter(\n",
    "            x=df.index,\n",
    "            y=df['Close'].rolling(window=20).mean(),\n",
    "            line=dict(color='blue', width=1),\n",
    "            name='20-Day MA'\n",
    "        ),\n",
    "        go.Scatter(\n",
    "            x=df.index,\n",
    "            y=df['Close'].rolling(window=50).mean(),\n",
    "            line=dict(color='orange', width=1),\n",
    "            name='50-Day MA'\n",
    "        )\n",
    "    ])\n",
    "    fig.update_layout(title=f'{symbol} Stock Price - 1 Year',\n",
    "                    xaxis_title='Date', yaxis_title='Price',\n",
    "                    xaxis_rangeslider_visible=False,\n",
    "                    template='plotly_dark')\n",
    "    return fig\n",
    "    pio.renderers.default = 'browser'\n",
    "    fig.show()\n"
   ]
  },
  {
   "cell_type": "code",
   "execution_count": 26,
   "id": "b8ef48d6",
   "metadata": {},
   "outputs": [],
   "source": [
    "for symbol in stock_symbols:\n",
    "    plot_candlestick(stock_data[symbol], symbol)"
   ]
  },
  {
   "cell_type": "code",
   "execution_count": null,
   "id": "99d2b428",
   "metadata": {},
   "outputs": [],
   "source": []
  }
 ],
 "metadata": {
  "kernelspec": {
   "display_name": "venv",
   "language": "python",
   "name": "python3"
  },
  "language_info": {
   "codemirror_mode": {
    "name": "ipython",
    "version": 3
   },
   "file_extension": ".py",
   "mimetype": "text/x-python",
   "name": "python",
   "nbconvert_exporter": "python",
   "pygments_lexer": "ipython3",
   "version": "3.10.13"
  }
 },
 "nbformat": 4,
 "nbformat_minor": 5
}
