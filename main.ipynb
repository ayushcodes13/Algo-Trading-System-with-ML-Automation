{
 "cells": [
  {
   "cell_type": "code",
   "execution_count": 27,
   "id": "9324bcab",
   "metadata": {},
   "outputs": [],
   "source": [
    "import yfinance as yf\n",
    "import pandas as pd\n",
    "import numpy as np\n",
    "import plotly.graph_objects as go\n",
    "from plotly.subplots import make_subplots\n",
    "from ta.momentum import RSIIndicator\n",
    "from ta.trend import MACD\n",
    "from sklearn.ensemble import RandomForestClassifier\n",
    "from sklearn.metrics import precision_score\n",
    "import os"
   ]
  },
  {
   "cell_type": "code",
   "execution_count": 28,
   "id": "06bcb1bb",
   "metadata": {},
   "outputs": [],
   "source": [
    "stocks = [\"RELIANCE.NS\", \"HDFCBANK.NS\", \"INFY.NS\"]\n",
    "stock_data = {}"
   ]
  },
  {
   "cell_type": "code",
   "execution_count": 32,
   "id": "bb3df909",
   "metadata": {},
   "outputs": [],
   "source": [
    "for stock in stocks:\n",
    "    if os.path.exists(f\"{stock}.csv\"):\n",
    "        stock_data[stock] = pd.read_csv(f\"{stock}.csv\", index_col=0, parse_dates=True)\n",
    "    else:\n",
    "        ticker = yf.Ticker(stock)\n",
    "        stock_data[stock] = ticker.history(period=\"max\")\n",
    "        stock_data[stock].to_csv(f\"{stock}.csv\")"
   ]
  },
  {
   "cell_type": "code",
   "execution_count": 33,
   "id": "2d12c3fd",
   "metadata": {},
   "outputs": [
    {
     "name": "stdout",
     "output_type": "stream",
     "text": [
      "\n",
      "Basic Statistics for RELIANCE.NS:\n",
      "              Open         High          Low        Close        Volume\n",
      "count  7428.000000  7428.000000  7428.000000  7428.000000  7.428000e+03\n",
      "mean    330.606448   334.200081   326.786256   330.358959  5.872732e+07\n",
      "std     418.435364   422.302549   414.404913   418.221028  1.014932e+08\n",
      "min       3.447046     3.462817     3.425643     3.462817  0.000000e+00\n",
      "25%      19.602716    19.868367    19.320005    19.591828  1.347409e+07\n",
      "50%     183.592594   185.615889   180.853095   183.490685  2.377707e+07\n",
      "75%     410.233114   413.387463   406.147393   408.630997  6.121514e+07\n",
      "max    1599.022925  1603.358288  1580.137072  1595.484985  1.448889e+09\n",
      "\n",
      "Basic Statistics for HDFCBANK.NS:\n",
      "              Open         High          Low        Close        Volume\n",
      "count  7431.000000  7431.000000  7431.000000  7431.000000  7.431000e+03\n",
      "mean    460.769056   465.090833   456.226109   460.741536  6.049395e+06\n",
      "std     560.059051   564.701241   555.357269   560.046262  7.772697e+06\n",
      "min       1.888184     1.888184     1.857167     1.888184  0.000000e+00\n",
      "25%      20.883425    21.145528    20.479966    20.790016  1.788582e+06\n",
      "50%     178.513769   182.690060   177.269805   179.291260  4.026686e+06\n",
      "75%     869.684977   875.768191   862.335913   868.301910  7.599326e+06\n",
      "max    2037.699951  2037.699951  2017.000000  2025.800049  2.226710e+08\n",
      "\n",
      "Basic Statistics for INFY.NS:\n",
      "              Open         High          Low        Close        Volume\n",
      "count  7431.000000  7431.000000  7431.000000  7431.000000  7.431000e+03\n",
      "mean    411.962154   416.297908   407.488064   411.898451  1.420393e+07\n",
      "std     502.261869   506.842648   497.533992   502.209264  1.543513e+07\n",
      "min       0.490471     0.492041     0.458150     0.490471  0.000000e+00\n",
      "25%      56.255853    56.845770    55.322135    55.889551  5.626887e+06\n",
      "50%     218.965629   221.313366   216.499368   219.095444  8.749994e+06\n",
      "75%     477.264784   483.457772   472.468629   477.771652  1.640978e+07\n",
      "max    1967.763256  1978.610690  1950.160948  1971.954346  2.766150e+08\n"
     ]
    }
   ],
   "source": [
    "for stock in stocks:\n",
    "    print(f\"\\nBasic Statistics for {stock}:\")\n",
    "    print(stock_data[stock][[\"Open\", \"High\", \"Low\", \"Close\", \"Volume\"]].describe())"
   ]
  },
  {
   "cell_type": "code",
   "execution_count": 37,
   "id": "9334366b",
   "metadata": {},
   "outputs": [
    {
     "ename": "ValueError",
     "evalue": "Mime type rendering requires nbformat>=4.2.0 but it is not installed",
     "output_type": "error",
     "traceback": [
      "\u001b[0;31m---------------------------------------------------------------------------\u001b[0m",
      "\u001b[0;31mValueError\u001b[0m                                Traceback (most recent call last)",
      "Cell \u001b[0;32mIn[37], line 54\u001b[0m\n\u001b[1;32m     52\u001b[0m \u001b[38;5;66;03m# Save and display the plot\u001b[39;00m\n\u001b[1;32m     53\u001b[0m fig\u001b[38;5;241m.\u001b[39mwrite_html(\u001b[38;5;124m\"\u001b[39m\u001b[38;5;124mnifty50_eda.html\u001b[39m\u001b[38;5;124m\"\u001b[39m)\n\u001b[0;32m---> 54\u001b[0m \u001b[43mfig\u001b[49m\u001b[38;5;241;43m.\u001b[39;49m\u001b[43mshow\u001b[49m\u001b[43m(\u001b[49m\u001b[43m)\u001b[49m\n",
      "File \u001b[0;32m~/Desktop/Stock market project/venv/lib/python3.10/site-packages/plotly/basedatatypes.py:3420\u001b[0m, in \u001b[0;36mBaseFigure.show\u001b[0;34m(self, *args, **kwargs)\u001b[0m\n\u001b[1;32m   3387\u001b[0m \u001b[38;5;250m\u001b[39m\u001b[38;5;124;03m\"\"\"\u001b[39;00m\n\u001b[1;32m   3388\u001b[0m \u001b[38;5;124;03mShow a figure using either the default renderer(s) or the renderer(s)\u001b[39;00m\n\u001b[1;32m   3389\u001b[0m \u001b[38;5;124;03mspecified by the renderer argument\u001b[39;00m\n\u001b[0;32m   (...)\u001b[0m\n\u001b[1;32m   3416\u001b[0m \u001b[38;5;124;03mNone\u001b[39;00m\n\u001b[1;32m   3417\u001b[0m \u001b[38;5;124;03m\"\"\"\u001b[39;00m\n\u001b[1;32m   3418\u001b[0m \u001b[38;5;28;01mimport\u001b[39;00m\u001b[38;5;250m \u001b[39m\u001b[38;5;21;01mplotly\u001b[39;00m\u001b[38;5;21;01m.\u001b[39;00m\u001b[38;5;21;01mio\u001b[39;00m\u001b[38;5;250m \u001b[39m\u001b[38;5;28;01mas\u001b[39;00m\u001b[38;5;250m \u001b[39m\u001b[38;5;21;01mpio\u001b[39;00m\n\u001b[0;32m-> 3420\u001b[0m \u001b[38;5;28;01mreturn\u001b[39;00m \u001b[43mpio\u001b[49m\u001b[38;5;241;43m.\u001b[39;49m\u001b[43mshow\u001b[49m\u001b[43m(\u001b[49m\u001b[38;5;28;43mself\u001b[39;49m\u001b[43m,\u001b[49m\u001b[43m \u001b[49m\u001b[38;5;241;43m*\u001b[39;49m\u001b[43margs\u001b[49m\u001b[43m,\u001b[49m\u001b[43m \u001b[49m\u001b[38;5;241;43m*\u001b[39;49m\u001b[38;5;241;43m*\u001b[39;49m\u001b[43mkwargs\u001b[49m\u001b[43m)\u001b[49m\n",
      "File \u001b[0;32m~/Desktop/Stock market project/venv/lib/python3.10/site-packages/plotly/io/_renderers.py:415\u001b[0m, in \u001b[0;36mshow\u001b[0;34m(fig, renderer, validate, **kwargs)\u001b[0m\n\u001b[1;32m    410\u001b[0m     \u001b[38;5;28;01mraise\u001b[39;00m \u001b[38;5;167;01mValueError\u001b[39;00m(\n\u001b[1;32m    411\u001b[0m         \u001b[38;5;124m\"\u001b[39m\u001b[38;5;124mMime type rendering requires ipython but it is not installed\u001b[39m\u001b[38;5;124m\"\u001b[39m\n\u001b[1;32m    412\u001b[0m     )\n\u001b[1;32m    414\u001b[0m \u001b[38;5;28;01mif\u001b[39;00m \u001b[38;5;129;01mnot\u001b[39;00m nbformat \u001b[38;5;129;01mor\u001b[39;00m Version(nbformat\u001b[38;5;241m.\u001b[39m__version__) \u001b[38;5;241m<\u001b[39m Version(\u001b[38;5;124m\"\u001b[39m\u001b[38;5;124m4.2.0\u001b[39m\u001b[38;5;124m\"\u001b[39m):\n\u001b[0;32m--> 415\u001b[0m     \u001b[38;5;28;01mraise\u001b[39;00m \u001b[38;5;167;01mValueError\u001b[39;00m(\n\u001b[1;32m    416\u001b[0m         \u001b[38;5;124m\"\u001b[39m\u001b[38;5;124mMime type rendering requires nbformat>=4.2.0 but it is not installed\u001b[39m\u001b[38;5;124m\"\u001b[39m\n\u001b[1;32m    417\u001b[0m     )\n\u001b[1;32m    419\u001b[0m display_jupyter_version_warnings()\n\u001b[1;32m    421\u001b[0m ipython_display\u001b[38;5;241m.\u001b[39mdisplay(bundle, raw\u001b[38;5;241m=\u001b[39m\u001b[38;5;28;01mTrue\u001b[39;00m)\n",
      "\u001b[0;31mValueError\u001b[0m: Mime type rendering requires nbformat>=4.2.0 but it is not installed"
     ]
    }
   ],
   "source": [
    "fig = make_subplots(\n",
    "    rows=3,\n",
    "    cols=1,\n",
    "    subplot_titles=[f\"{stock} Closing Price and Volume\" for stock in stocks],\n",
    "    vertical_spacing=0.1,\n",
    "    specs=[[{'secondary_y': True}] for _ in range(3)]  # Enable secondary_y for each subplot\n",
    ")\n",
    "\n",
    "for i, stock in enumerate(stocks, 1):\n",
    "    df = stock_data[stock]\n",
    "    # Add candlestick chart for stock price\n",
    "    fig.add_trace(\n",
    "        go.Candlestick(\n",
    "            x=df.index,\n",
    "            open=df[\"Open\"],\n",
    "            high=df[\"High\"],\n",
    "            low=df[\"Low\"],\n",
    "            close=df[\"Close\"],\n",
    "            name=stock,\n",
    "            increasing_line_color=\"#00CC96\",\n",
    "            decreasing_line_color=\"#EF553B\",\n",
    "        ),\n",
    "        row=i,\n",
    "        col=1,\n",
    "        secondary_y=False,  # Primary y-axis for price\n",
    "    )\n",
    "    # Add volume bar chart\n",
    "    fig.add_trace(\n",
    "        go.Bar(\n",
    "            x=df.index,\n",
    "            y=df[\"Volume\"],\n",
    "            name=f\"{stock} Volume\",\n",
    "            marker_color=\"#636EFA\",\n",
    "            opacity=0.3,\n",
    "        ),\n",
    "        row=i,\n",
    "        col=1,\n",
    "        secondary_y=True,  # Secondary y-axis for volume\n",
    "    )\n",
    "\n",
    "# Update layout for a professional look\n",
    "fig.update_layout(\n",
    "    title=\"Nifty50 Stocks: Price and Volume (Last 5 Years)\",\n",
    "    height=1200,\n",
    "    showlegend=False,\n",
    "    template=\"plotly_dark\",\n",
    "    xaxis_rangeslider_visible=False,\n",
    ")\n",
    "fig.update_yaxes(title_text=\"Price (INR)\", secondary_y=False)\n",
    "fig.update_yaxes(title_text=\"Volume\", secondary_y=True)\n",
    "\n",
    "# Save and display the plot\n",
    "fig.write_html(\"nifty50_eda.html\")\n",
    "fig.show()"
   ]
  },
  {
   "cell_type": "code",
   "execution_count": null,
   "id": "b00bc882",
   "metadata": {},
   "outputs": [],
   "source": []
  }
 ],
 "metadata": {
  "kernelspec": {
   "display_name": "venv",
   "language": "python",
   "name": "python3"
  },
  "language_info": {
   "codemirror_mode": {
    "name": "ipython",
    "version": 3
   },
   "file_extension": ".py",
   "mimetype": "text/x-python",
   "name": "python",
   "nbconvert_exporter": "python",
   "pygments_lexer": "ipython3",
   "version": "3.10.13"
  }
 },
 "nbformat": 4,
 "nbformat_minor": 5
}
